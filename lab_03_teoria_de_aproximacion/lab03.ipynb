{
 "cells": [
  {
   "cell_type": "markdown",
   "metadata": {},
   "source": [
    "# LABORATORIO 3, ANÁLISIS NÚMERICO II"
   ]
  },
  {
   "cell_type": "markdown",
   "metadata": {},
   "source": [
    "Daniela Paz Díaz Mora \n",
    "\n",
    "201710003-6"
   ]
  },
  {
   "cell_type": "code",
   "execution_count": 1,
   "metadata": {},
   "outputs": [],
   "source": [
    "import numpy as np\n",
    "import matplotlib as mpl\n",
    "import matplotlib.pyplot as plt\n",
    "import matplotlib.mlab as mlab\n",
    "import pandas as pd\n",
    "import seaborn as sns\n",
    "import scipy.stats as sp\n",
    "import math\n",
    "from scipy.misc import derivative\n",
    "import scipy"
   ]
  },
  {
   "cell_type": "markdown",
   "metadata": {},
   "source": [
    " # 6. Programación"
   ]
  },
  {
   "cell_type": "markdown",
   "metadata": {},
   "source": [
    "### a. Elabore un programa que interpole la función f(x)=cos(x) C[0,1] de tipo handle o domblica usando los polinomios de Bernstein de grado n. Compare sus resultados con al interpolación por polinomios de Bernstein mediante un grafico plot"
   ]
  },
  {
   "cell_type": "markdown",
   "metadata": {},
   "source": [
    "Se tiene que como x se mueve entre 0 y 1 los polinomios de Bernstein P(x) de orden n, estaran dados por\n",
    "\n",
    "P(x)=\\sum_{i=1}^n c_i B_i^n(x)\n",
    "\n",
    "donde C_i=f(i/n) y B_i^n(x)=(n i) x^i(1-x)^{n-i}"
   ]
  },
  {
   "cell_type": "code",
   "execution_count": 2,
   "metadata": {},
   "outputs": [],
   "source": [
    "from scipy.interpolate import BPoly\n",
    "#esta función es la unica en python que realiza la interpolación de bernstein,\n",
    "#pero para el caso de un polinomio de grado mayor a dos no puedo construir\n",
    "#el argumento c para que calce las dimensiones solicitadas, aun así realizare\n",
    "#además este no construye el polinomio en si mismo, si no que una base de bernstein\n",
    "# no encontre documentación mas alla de la original de spicy\n",
    "# y la anterior solo contaba para n=2, tampoco encontre\n",
    "#implementaciones analogas de esta función en foros ni en github...\n",
    "#quizás usted podría saber como implementarla, ya que me quede en la duda de como\n",
    "#hacerlo por python, como no es analoga a la función de matlab no se realizara \n",
    "# ni su implementación ni grafica, no habiendo otra función otorgada por pyhton\n",
    "#para poder remplazarla, sin embargo se graficara cos(x) para ver como se comporta\n",
    "# la aproximación"
   ]
  },
  {
   "cell_type": "code",
   "execution_count": 3,
   "metadata": {},
   "outputs": [],
   "source": [
    "def comb(n, r):\n",
    "    a = np.math.factorial(n)\n",
    "    b = np.math.factorial(r)*np.math.factorial(n-r)\n",
    "    return a/b\n",
    "\n",
    "\n",
    "def bernstein(f, n):\n",
    "    matrix_aux=np.zeros((n+1, n+1))\n",
    "    for i in range(0,n+1):\n",
    "        for j in range(0,n+1-i):\n",
    "            matrix_aux[i][n-j]=comb(n, i)*comb(n-i, j)*f(float(i)/n)*(-1)**(n-i-j)\n",
    "    coef_pol=matrix_aux.sum(axis=0)\n",
    "    return coef_pol"
   ]
  },
  {
   "cell_type": "code",
   "execution_count": 4,
   "metadata": {},
   "outputs": [],
   "source": [
    "n=10\n",
    "polbernstein=np.poly1d(bernstein(np.cos,n).tolist()[::-1])"
   ]
  },
  {
   "cell_type": "code",
   "execution_count": 5,
   "metadata": {},
   "outputs": [
    {
     "data": {
      "image/png": "[encoded data removed]",
      "text/plain": [
       "<Figure size 432x288 with 1 Axes>"
      ]
     },
     "metadata": {
      "needs_background": "light"
     },
     "output_type": "display_data"
    }
   ],
   "source": [
    "n=10\n",
    "x=np.arange(0,101)/100\n",
    "plt.plot(x,polbernstein(x),c='m',label='Bernstein pol')\n",
    "plt.plot(x,np.cos(x),c='g',label='cos(x)')\n",
    "plt.legend()\n",
    "plt.title('Aproximación Bernstein para cos(x)')\n",
    "plt.show()"
   ]
  },
  {
   "cell_type": "markdown",
   "metadata": {},
   "source": [
    "### b. Adaptar la regla de simpson compuesta para aproximar la integral de una función en un intervalo [a,b] que pase a través de M nodos, no necesariamente quiespaciados."
   ]
  },
  {
   "cell_type": "code",
   "execution_count": 6,
   "metadata": {},
   "outputs": [],
   "source": [
    "xk=[]\n",
    "fxk=[]\n",
    "for i in range(0,13):\n",
    "    xk.append(np.sqrt(i*i+1))\n",
    "    fxk.append(i**(1/3))\n",
    "\n",
    "n=len(xk)-1\n",
    "b=xk[n]\n",
    "a=xk[0]\n",
    "h=(b-a)/n\n",
    "\n",
    "sum1=0\n",
    "sum2=0\n",
    "integral=0\n",
    "for i in range(1,7):\n",
    "    if n%2 != 0:\n",
    "        print('no puede ocupar la regla 1/3 de simpson compuesta')\n",
    "        if n%3 ==0:\n",
    "            print('ocupe la regla se 3/8 simpson compuesta ')\n",
    "        else:\n",
    "            print('ocupe la regla del trapezoide')\n",
    "    else:\n",
    "        sum1+=fxk[2*i-1]\n",
    "        if i<7:\n",
    "            sum2+=fxk[2*i]\n",
    "if n%2 ==0:    \n",
    "    integral=h*(fxk[0]+2*sum1+4*sum2+fxk[n-1])/3"
   ]
  },
  {
   "cell_type": "code",
   "execution_count": 7,
   "metadata": {},
   "outputs": [
    {
     "data": {
      "text/plain": [
       "20.670982950583607"
      ]
     },
     "execution_count": 7,
     "metadata": {},
     "output_type": "execute_result"
    }
   ],
   "source": [
    "integral"
   ]
  },
  {
   "cell_type": "markdown",
   "metadata": {},
   "source": [
    "Notemos que el ejercicio toma 14 puntos, es decir 13 intervalos lo cual implica que n=13 y no podemos ocupar la regla de simpson 1/3 compuesta ya que esta es para n es par, tampoco cumple el requisito para simson 3/8 ya que esta debe ser impar multiplo de 3, siendo la unica opción ocupar la regla del trapezoide, para no perder la idea del ejercicio modifique los puntos tomandose i=0,1,...,13 cumpliendo así el requisito para simpson compuesta"
   ]
  }
 ],
 "metadata": {
  "kernelspec": {
   "display_name": "Python 3",
   "language": "python",
   "name": "python3"
  },
  "language_info": {
   "codemirror_mode": {
    "name": "ipython",
    "version": 3
   },
   "file_extension": ".py",
   "mimetype": "text/x-python",
   "name": "python",
   "nbconvert_exporter": "python",
   "pygments_lexer": "ipython3",
   "version": "3.7.6"
  }
 },
 "nbformat": 4,
 "nbformat_minor": 4
}
