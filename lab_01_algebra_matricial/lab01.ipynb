{
 "cells": [
  {
   "cell_type": "markdown",
   "metadata": {},
   "source": [
    "# LABORATORIO 1, ANÁLISIS NÚMERICO II"
   ]
  },
  {
   "cell_type": "markdown",
   "metadata": {},
   "source": [
    "Daniela Paz Díaz Mora \n",
    "\n",
    "201710003-6"
   ]
  },
  {
   "cell_type": "code",
   "execution_count": 1,
   "metadata": {},
   "outputs": [],
   "source": [
    "import numpy as np\n",
    "import matplotlib as mpl\n",
    "import matplotlib.pyplot as plt\n",
    "import matplotlib.mlab as mlab\n",
    "import pandas as pd\n",
    "import seaborn as sns\n",
    "import scipy.stats as sp\n",
    "import math\n",
    "from scipy.misc import derivative"
   ]
  },
  {
   "cell_type": "markdown",
   "metadata": {},
   "source": [
    "## Ejercicio 1"
   ]
  },
  {
   "cell_type": "markdown",
   "metadata": {},
   "source": [
    "### a) "
   ]
  },
  {
   "cell_type": "code",
   "execution_count": 2,
   "metadata": {},
   "outputs": [],
   "source": [
    "def numconvorder(h,err):\n",
    "    alpha=[]\n",
    "    C=[]\n",
    "    if len(h) != len(err): #verifica que ambos vectores ingresados pertenecen a R^{k}\n",
    "        print('Hay un error en el ingreso de los datos')\n",
    "    else:\n",
    "        for j in range(0,len(h)-1): #itera k-1 veces asi los vectores pedidos si pertenecen a R^{k-1} y no se produce error de indice\n",
    "            alpha.append(np.log2(err[j]/err[j+1]))\n",
    "            #print(err[j])\n",
    "            #print(err[j+1])\n",
    "            print(np.log2(err[j]/err[j+1]))\n",
    "            C.append(err[j]/(h[j]**alpha[j]))\n",
    "        return alpha,C"
   ]
  },
  {
   "cell_type": "code",
   "execution_count": 3,
   "metadata": {},
   "outputs": [],
   "source": [
    "#Para llamar a la función y probar su funcionamiento\n",
    "#h=[1,2,3] \n",
    "#err=[0,.1,.001]\n",
    "#alpha,C =numconvorder(h,err)\n",
    "#print('El vector alpha es', alpha, 'y pertenece a R^',len(alpha))\n",
    "#print('El vector C es', C, 'y pertenece a R^',len(C))"
   ]
  },
  {
   "cell_type": "markdown",
   "metadata": {},
   "source": [
    "### b)"
   ]
  },
  {
   "cell_type": "code",
   "execution_count": 4,
   "metadata": {},
   "outputs": [],
   "source": [
    "def numdiff1(f,x,k):\n",
    "    h=[]\n",
    "    Phi1=[]\n",
    "    for j in range(0,k):\n",
    "        h.append(2**(-j-1))\n",
    "        Phi1.append((f(x+h[j])-f(x))/h[j])\n",
    "    return h,Phi1\n",
    "def numdiff2(f,x,k):\n",
    "    h=[]\n",
    "    Phi2=[]\n",
    "    for j in range(0,k):\n",
    "        h.append(2**(-j-1))\n",
    "        Phi2.append((f(x+h[j])-f(x-h[j]))/(2*h[j]))\n",
    "    return h,Phi2"
   ]
  },
  {
   "cell_type": "markdown",
   "metadata": {},
   "source": [
    "### c)"
   ]
  },
  {
   "cell_type": "code",
   "execution_count": 5,
   "metadata": {},
   "outputs": [],
   "source": [
    "def f(x):\n",
    "    return np.exp(x)"
   ]
  },
  {
   "cell_type": "code",
   "execution_count": 6,
   "metadata": {},
   "outputs": [],
   "source": [
    "x=1\n",
    "k=16"
   ]
  },
  {
   "cell_type": "code",
   "execution_count": 7,
   "metadata": {},
   "outputs": [],
   "source": [
    "#test\n",
    "[h_1,Phi1]=numdiff1(f,x,k)\n",
    "[h_2,Phi2]=numdiff2(f,x,k)"
   ]
  },
  {
   "cell_type": "code",
   "execution_count": 8,
   "metadata": {},
   "outputs": [],
   "source": [
    "fprima=derivative(f, 1.0, dx=1e-6)\n",
    "err1=[]\n",
    "err2=[]\n",
    "for i in range(0,len(Phi1)):\n",
    "    err1.append(np.abs(Phi1[i]-f(1)))\n",
    "for i in range(0,len(Phi2)):\n",
    "    err2.append(np.abs(Phi2[i]-f(1))) \n"
   ]
  },
  {
   "cell_type": "code",
   "execution_count": 9,
   "metadata": {},
   "outputs": [
    {
     "name": "stdout",
     "output_type": "stream",
     "text": [
      "1.1279262673342803\n",
      "1.062014725846996\n",
      "1.0305287917515404\n",
      "1.0151458590384712\n",
      "1.0075434358379591\n",
      "1.0037643621990926\n",
      "1.0018803443924733\n",
      "1.0009397132931486\n",
      "1.0004697418927937\n",
      "1.00023484263824\n",
      "1.0001174086102678\n",
      "1.0000587056926817\n",
      "1.000029315739724\n",
      "1.0000145979046333\n",
      "1.0000059132594743\n",
      "2.0135202050960728\n",
      "2.0033810015618028\n",
      "2.0008453094611176\n",
      "2.00021133106025\n",
      "2.00005283311736\n",
      "2.000013207558211\n",
      "2.0000033022168924\n",
      "2.0000008358717363\n",
      "2.000000591292196\n",
      "2.00000540208638\n",
      "1.9999851654418117\n",
      "1.999940663292568\n",
      "1.9989856036253637\n",
      "2.009961718903187\n",
      "1.9775800772562147\n"
     ]
    }
   ],
   "source": [
    "[alpha_1,C_1]=numconvorder(h_1,err1)\n",
    "\n",
    "[alpha_2,C_2]=numconvorder(h_2,err2)"
   ]
  },
  {
   "cell_type": "code",
   "execution_count": 10,
   "metadata": {},
   "outputs": [
    {
     "name": "stdout",
     "output_type": "stream",
     "text": [
      "[1.1279262673342803, 1.062014725846996, 1.0305287917515404, 1.0151458590384712, 1.0075434358379591, 1.0037643621990926, 1.0018803443924733, 1.0009397132931486, 1.0004697418927937, 1.00023484263824, 1.0001174086102678, 1.0000587056926817, 1.000029315739724, 1.0000145979046333, 1.0000059132594743]\n",
      "[2.0135202050960728, 2.0033810015618028, 2.0008453094611176, 2.00021133106025, 2.00005283311736, 2.000013207558211, 2.0000033022168924, 2.0000008358717363, 2.000000591292196, 2.00000540208638, 1.9999851654418117, 1.999940663292568, 1.9989856036253637, 2.009961718903187, 1.9775800772562147]\n"
     ]
    }
   ],
   "source": [
    "print(alpha_1)\n",
    "print(alpha_2)"
   ]
  },
  {
   "cell_type": "code",
   "execution_count": 12,
   "metadata": {},
   "outputs": [],
   "source": [
    "h_alpha2=[]\n",
    "for i in range(0,len(h_2)):\n",
    "    h_alpha2.append(h_2[i]**2)"
   ]
  },
  {
   "cell_type": "code",
   "execution_count": null,
   "metadata": {},
   "outputs": [],
   "source": [
    "fig,axs=plt.subplots(1, 2,figsize=(16,8))\n",
    "\n",
    "axs[0].plot(h_1,err1)\n",
    "axs[0].plot(h_1,h_1)\n",
    "axs[0].set_xscale('log', basex=2)\n",
    "axs[0].set_yscale('log')\n",
    "axs[0].set_title('err1 y h')\n",
    "axs[1].plot(h_1,err2)\n",
    "axs[1].plot(h_1,h_alpha2)\n",
    "axs[1].set_xscale('log', basex=2)\n",
    "axs[1].set_yscale('log')\n",
    "axs[1].set_title('err1 y h^2')\n",
    "\n",
    "plt.show()"
   ]
  },
  {
   "cell_type": "markdown",
   "metadata": {},
   "source": [
    "Esperamos que en las escalas pedidas tanto h^\\alpha y el err tengan un comportamiento paralelo"
   ]
  },
  {
   "cell_type": "markdown",
   "metadata": {},
   "source": [
    "## Ejercicio 5\n"
   ]
  },
  {
   "cell_type": "markdown",
   "metadata": {},
   "source": [
    "Siguiendo el procedimiento visto en clase, calcule la SVD de las siguientes matrices:"
   ]
  },
  {
   "cell_type": "code",
   "execution_count": null,
   "metadata": {},
   "outputs": [],
   "source": [
    "a=np.matrix([[3,0],[0,-2]])\n",
    "b=np.matrix([[1,1],[1,1]])\n",
    "c=np.matrix([[0,2],[0,0],[0,0]])\n",
    "d=np.matrix([[2,0],[0,3]])\n"
   ]
  },
  {
   "cell_type": "markdown",
   "metadata": {},
   "source": [
    "y compare sus resultados con los obtenidos mediante el comando de programación. ¿Que puede observar?. Luego, elabore un programa el cual, dada una matriz real 2x2, dibuje los vectores singulares v1 y v2 en labola unitaria y también los vectores singulares u1 y u2 en la elipse apropiada. Aplique este programa a las matrices cuadradas de arriba."
   ]
  },
  {
   "cell_type": "code",
   "execution_count": null,
   "metadata": {},
   "outputs": [],
   "source": [
    "def SVD(m): # procedimiento visto en clases\n",
    "    valores_v,vectores_v=np.linalg.eig(np.transpose(m)*m)\n",
    "    valores_u,vectores_u=np.linalg.eig(m*np.transpose(m))\n",
    "    print(vectores_v)\n",
    "    print(vectores_v)\n",
    "    print(valores_v )   "
   ]
  },
  {
   "cell_type": "code",
   "execution_count": null,
   "metadata": {},
   "outputs": [],
   "source": [
    "SVD(a)"
   ]
  },
  {
   "cell_type": "code",
   "execution_count": null,
   "metadata": {},
   "outputs": [],
   "source": [
    "Va=[[1,0],[0,1]]\n",
    "Ua=[[1,0],[0,1]]\n",
    "Sa=[[3,0],[0,2]]"
   ]
  },
  {
   "cell_type": "code",
   "execution_count": null,
   "metadata": {},
   "outputs": [],
   "source": [
    "u_a,s_a,vh_a=np.linalg.svd(a,full_matrices=False)\n",
    "print(u_a,'\\n',s_a,'\\n',vh_a)"
   ]
  },
  {
   "cell_type": "code",
   "execution_count": null,
   "metadata": {},
   "outputs": [],
   "source": [
    "U_a=u_a\n",
    "S_a=np.diag(s_a)\n",
    "V_a=np.transpose(vh_a.conj())\n",
    "print('La matriz U es \\n ',U_a,'\\n La matriz sigma es \\n',Sa,'\\n La matriz V es\\n', V_a)"
   ]
  },
  {
   "cell_type": "code",
   "execution_count": null,
   "metadata": {},
   "outputs": [],
   "source": [
    "SVD(b)"
   ]
  },
  {
   "cell_type": "code",
   "execution_count": null,
   "metadata": {},
   "outputs": [],
   "source": [
    "u_b,s_b,vh_b=np.linalg.svd(b,full_matrices=False)\n",
    "print(u_b,'\\n',s_b,'\\n',vh_b)\n",
    "print(u_b*np.diag(s_b)*vh_b)"
   ]
  },
  {
   "cell_type": "code",
   "execution_count": null,
   "metadata": {},
   "outputs": [],
   "source": [
    "u_c,s_c,vh_c=np.linalg.svd(c,full_matrices=False)\n",
    "print(u_c,'\\n',s_c,'\\n',vh_c)"
   ]
  },
  {
   "cell_type": "code",
   "execution_count": null,
   "metadata": {},
   "outputs": [],
   "source": [
    "u_d,s_d,vh_d=np.linalg.svd(d,full_matrices=False)\n",
    "print(u_d,'\\n',s_d,'\\n',vh_d)"
   ]
  },
  {
   "cell_type": "code",
   "execution_count": null,
   "metadata": {},
   "outputs": [],
   "source": [
    "def plot(m): #m matriz de 2x2\n",
    "    u,s,vh=np.linalg.svd(m,full_matrices=True)\n",
    "    matriz_u=u.tolist()\n",
    "    Sigma=s.tolist()\n",
    "    fig, axs = plt.subplots(1, 2,figsize=(16,8))\n",
    "    axs[0].arrow(0,0,matriz_u[0][0],matriz_u[0][1], head_width=0.05, head_length=0.1, fc='k', ec='g')\n",
    "    axs[0].arrow(0,0,matriz_u[1][0],matriz_u[1][1],head_width=0.05, head_length=0.1, fc='k', ec='r')\n",
    "    axs[0].set_xlim(-4, 4)\n",
    "    axs[0].set_ylim(-4, 4)\n",
    "    circ = plt.Circle((0, 0), radius=1, alpha=0.3,color='m')\n",
    "    axs[0].add_patch(circ)\n",
    "    axs[0].set_title('Vectores v_1 y v_2 en la bola unitaria')\n",
    "    axs[1].arrow(0,0,matriz_u[0][0]*Sigma[0],matriz_u[0][1]*Sigma[1],head_width=0.05, head_length=0.1, fc='k', ec='g')\n",
    "    axs[1].arrow(0,0,matriz_u[1][0]*Sigma[0],matriz_u[1][1]*Sigma[1],head_width=0.05, head_length=0.1, fc='k', ec='r')\n",
    "    axs[1].set_xlim(-4, 4)\n",
    "    axs[1].set_ylim(-4, 4)\n",
    "    elipse=mpl.patches.Ellipse((0,0),s[0]*2,s[1]*2,alpha=0.3,color='m')\n",
    "    axs[1].add_patch(elipse)\n",
    "    axs[1].set_aspect('equal')\n",
    "    axs[1].set_title('Vectores u_1 y u_2 en la elipse definida por sigma')\n",
    "    plt.show()"
   ]
  },
  {
   "cell_type": "code",
   "execution_count": null,
   "metadata": {},
   "outputs": [],
   "source": [
    "plot(a)"
   ]
  },
  {
   "cell_type": "code",
   "execution_count": null,
   "metadata": {},
   "outputs": [],
   "source": [
    "plot(b)"
   ]
  },
  {
   "cell_type": "code",
   "execution_count": null,
   "metadata": {},
   "outputs": [],
   "source": [
    "plot(d)"
   ]
  }
 ],
 "metadata": {
  "kernelspec": {
   "display_name": "Python 3",
   "language": "python",
   "name": "python3"
  },
  "language_info": {
   "codemirror_mode": {
    "name": "ipython",
    "version": 3
   },
   "file_extension": ".py",
   "mimetype": "text/x-python",
   "name": "python",
   "nbconvert_exporter": "python",
   "pygments_lexer": "ipython3",
   "version": "3.7.6"
  }
 },
 "nbformat": 4,
 "nbformat_minor": 4
}
