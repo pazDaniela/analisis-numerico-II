{
 "cells": [
  {
   "cell_type": "markdown",
   "metadata": {},
   "source": [
    "# CERTAMEN 2, ANÁLISIS NÚMERICO II"
   ]
  },
  {
   "cell_type": "markdown",
   "metadata": {},
   "source": [
    "Daniela Paz Díaz Mora \n",
    "\n",
    "201710003-6"
   ]
  },
  {
   "cell_type": "code",
   "execution_count": 2,
   "metadata": {},
   "outputs": [],
   "source": [
    "import numpy as np\n",
    "import numpy.linalg as alg\n",
    "import matplotlib as mpl\n",
    "import matplotlib.pyplot as plt\n",
    "import matplotlib.mlab as mlab\n",
    "import pandas as pd\n",
    "import seaborn as sns\n",
    "import scipy.stats as sp\n",
    "import math\n",
    "from math import copysign, hypot\n",
    "from scipy.misc import derivative\n",
    "from scipy.linalg import lu, inv\n",
    "import scipy"
   ]
  },
  {
   "cell_type": "markdown",
   "metadata": {},
   "source": [
    "### **5.1**"
   ]
  },
  {
   "cell_type": "code",
   "execution_count": 34,
   "metadata": {},
   "outputs": [],
   "source": [
    "hora=np.array([1,2,3,4,5,6])\n",
    "temp=np.array([18.8889,18.8889,18.3333,17.7778,17.2222,17.2222])\n",
    "n=6"
   ]
  },
  {
   "cell_type": "markdown",
   "metadata": {},
   "source": [
    "### a. Consturir un polinomio de Lagrange para los datos dados"
   ]
  },
  {
   "cell_type": "code",
   "execution_count": 36,
   "metadata": {},
   "outputs": [
    {
     "name": "stdout",
     "output_type": "stream",
     "text": [
      "          5          4         3         2\n",
      "0.009265 x - 0.1621 x + 1.112 x - 3.729 x + 5.549 x + 16.11\n"
     ]
    }
   ],
   "source": [
    "from scipy.interpolate import lagrange\n",
    "from numpy.polynomial.polynomial import Polynomial\n",
    "poly=lagrange(hora,temp)\n",
    "print(poly)"
   ]
  },
  {
   "cell_type": "markdown",
   "metadata": {},
   "source": [
    "### b. Usar el algoritmo para estimar la temperatura media durante el periodo de 5 horas dado."
   ]
  },
  {
   "cell_type": "code",
   "execution_count": 72,
   "metadata": {},
   "outputs": [
    {
     "name": "stdout",
     "output_type": "stream",
     "text": [
      "el valor de I(x) es \n",
      "           6           5          4         3         2\n",
      "0.001544 x - 0.03243 x + 0.2779 x - 1.243 x + 2.774 x + 16.11 x\n",
      "la temperatura media es de 18.055550000000956 °C\n"
     ]
    }
   ],
   "source": [
    "#Algoritmo analogo al de matlab:\n",
    "n=5 #grado de poly\n",
    "C=0 #constante de integracion\n",
    "A=Polynomial(poly).coef.tolist() #coeficientes de integracion\n",
    "integ_coef=[] #lista_aux de los coef de nuestro polinomio de la integral\n",
    "for i in range(1,n+2):\n",
    "    integ_coef.append(A[i-1]/(n+2-i))\n",
    "integ_coef.append(C)\n",
    "integ=np.poly1d(integ_coef)\n",
    "print('el valor de I(x) es \\n',integ)\n",
    "print('la temperatura media es de', (integ(6)-integ(1))/5,'°C')"
   ]
  },
  {
   "cell_type": "markdown",
   "metadata": {},
   "source": [
    "### c. Dibuja los datos de la tabla y el polinomio de la parte (i.) en el mismo sistema de coordenadas. Discuta el posible error que puede resultar del uso del polinomio de la parte (i.) para estimar la temperatura media."
   ]
  },
  {
   "cell_type": "code",
   "execution_count": 79,
   "metadata": {},
   "outputs": [
    {
     "data": {
      "image/png": "[encoded data removed]",
      "text/plain": [
       "<Figure size 432x288 with 1 Axes>"
      ]
     },
     "metadata": {
      "needs_background": "light"
     },
     "output_type": "display_data"
    }
   ],
   "source": [
    "plt.scatter(hora,temp,c='m',label='tabla')\n",
    "x=np.linspace(1,6,num=100)\n",
    "plt.plot(x,poly(x),c='g',label='lagrange_pol')\n",
    "plt.legend()\n",
    "plt.title(' Temperatura [°C] vs hora')\n",
    "plt.show()"
   ]
  },
  {
   "cell_type": "code",
   "execution_count": 75,
   "metadata": {},
   "outputs": [
    {
     "name": "stdout",
     "output_type": "stream",
     "text": [
      "el promedio de temperatura de la tabla es de 18.05555\n"
     ]
    }
   ],
   "source": [
    "print('el promedio de temperatura de la tabla es de', sum(temp)/6)"
   ]
  },
  {
   "cell_type": "markdown",
   "metadata": {},
   "source": [
    "El error se podria obtener en los picos de los polinomios, en la primera y ultima hora vemos que el polinomio aproximado alcanzan sus maximos y minimos respectivos, estos se contrarestan al calular a integral causando un pequeño error, pero si intentaramos hacerlos para valore de n muchos mas grandes estos valores pueden cambiar e incluso se puden lograr mas picos en la curva por la forma del plinomio de aproximación llevandonos a errores de la estimación del promedio de la temperatura"
   ]
  },
  {
   "cell_type": "markdown",
   "metadata": {},
   "source": [
    "### **5.2**"
   ]
  },
  {
   "cell_type": "markdown",
   "metadata": {},
   "source": [
    "### Adaptar la regla del Trapecio compuesta para aproximar la integral de una función en un intervalo [a,b] que pase a través de M nodos, no necesariamente quiespaciados."
   ]
  },
  {
   "cell_type": "code",
   "execution_count": 87,
   "metadata": {},
   "outputs": [
    {
     "name": "stdout",
     "output_type": "stream",
     "text": [
      "la aproximación de la integral es 21.84106920647963\n"
     ]
    }
   ],
   "source": [
    "xk=[]\n",
    "fxk=[]\n",
    "for i in range(0,14):\n",
    "    xk.append(np.sqrt(i*i+1))\n",
    "    fxk.append(i**(1/3))\n",
    "integral=0\n",
    "for i in range(0,len(xk)-1):\n",
    "    integral+=(xk[i+1]-xk[i])*(fxk[i+1]+fxk[i])/2\n",
    "print('la aproximación de la integral es', integral)"
   ]
  },
  {
   "cell_type": "code",
   "execution_count": null,
   "metadata": {},
   "outputs": [],
   "source": []
  },
  {
   "cell_type": "code",
   "execution_count": null,
   "metadata": {},
   "outputs": [],
   "source": []
  }
 ],
 "metadata": {
  "kernelspec": {
   "display_name": "Python 3",
   "language": "python",
   "name": "python3"
  },
  "language_info": {
   "codemirror_mode": {
    "name": "ipython",
    "version": 3
   },
   "file_extension": ".py",
   "mimetype": "text/x-python",
   "name": "python",
   "nbconvert_exporter": "python",
   "pygments_lexer": "ipython3",
   "version": "3.7.6"
  }
 },
 "nbformat": 4,
 "nbformat_minor": 4
}
